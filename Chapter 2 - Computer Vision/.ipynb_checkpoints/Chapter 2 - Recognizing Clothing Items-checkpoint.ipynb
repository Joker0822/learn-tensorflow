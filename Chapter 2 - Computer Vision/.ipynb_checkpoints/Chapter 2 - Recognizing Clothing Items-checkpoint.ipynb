{
 "cells": [
  {
   "cell_type": "markdown",
   "id": "843d6c58",
   "metadata": {},
   "source": [
    "<h1>Importing Tensorflow</h1>"
   ]
  },
  {
   "cell_type": "code",
   "execution_count": 1,
   "id": "3fb34b19",
   "metadata": {},
   "outputs": [],
   "source": [
    "import tensorflow as tf"
   ]
  },
  {
   "cell_type": "markdown",
   "id": "87c89008",
   "metadata": {},
   "source": [
    "<h1>Callback On The Training</h1>"
   ]
  },
  {
   "cell_type": "code",
   "execution_count": 2,
   "id": "f42e030f",
   "metadata": {},
   "outputs": [],
   "source": [
    "class myCallback(tf.keras.callbacks.Callback):\n",
    "    def on_epoch_end(self, epoch, logs={}):\n",
    "        if(logs.get('accuracy') > 0.95):\n",
    "            print(\"\\nReached 95% accuracy so cancelling training!\")\n",
    "            self.model.stop_training = True"
   ]
  },
  {
   "cell_type": "markdown",
   "id": "ee339a56",
   "metadata": {},
   "source": [
    "<h1>Callback object & Loading MNIST dataset</h1>"
   ]
  },
  {
   "cell_type": "code",
   "execution_count": 3,
   "id": "f85750cc",
   "metadata": {},
   "outputs": [],
   "source": [
    "callbacks = myCallback()\n",
    "data = tf.keras.datasets.fashion_mnist"
   ]
  },
  {
   "cell_type": "markdown",
   "id": "60b16aa0",
   "metadata": {},
   "source": [
    "<h1>Training set & Test set</h1>"
   ]
  },
  {
   "cell_type": "code",
   "execution_count": 4,
   "id": "59a710ca",
   "metadata": {
    "scrolled": true
   },
   "outputs": [],
   "source": [
    "(training_images, training_labels), (test_images, test_labels) = data.load_data()"
   ]
  },
  {
   "cell_type": "markdown",
   "id": "f9ad99d0",
   "metadata": {},
   "source": [
    "<h1>Normalizing the Image </h1>"
   ]
  },
  {
   "cell_type": "code",
   "execution_count": 5,
   "id": "f7110884",
   "metadata": {},
   "outputs": [],
   "source": [
    "training_images = training_images / 255.0\n",
    "test_images = test_images / 255.0"
   ]
  },
  {
   "cell_type": "markdown",
   "id": "0624a5a1",
   "metadata": {},
   "source": [
    "<h1>Defining Neural Network</h1>"
   ]
  },
  {
   "cell_type": "code",
   "execution_count": 6,
   "id": "f47d6e78",
   "metadata": {},
   "outputs": [],
   "source": [
    "model = tf.keras.models.Sequential([\n",
    " tf.keras.layers.Flatten(input_shape=(28, 28)),\n",
    " tf.keras.layers.Dense(128, activation=tf.nn.relu),\n",
    " tf.keras.layers.Dense(10, activation=tf.nn.softmax)\n",
    " ])"
   ]
  },
  {
   "cell_type": "markdown",
   "id": "e66f4c44",
   "metadata": {},
   "source": [
    "<h1>Compiling Model</h1>"
   ]
  },
  {
   "cell_type": "code",
   "execution_count": 7,
   "id": "eb9e8218",
   "metadata": {},
   "outputs": [],
   "source": [
    "model.compile(optimizer='adam',\n",
    "     loss='sparse_categorical_crossentropy',\n",
    "     metrics=['accuracy'])"
   ]
  },
  {
   "cell_type": "markdown",
   "id": "6382a07a",
   "metadata": {},
   "source": [
    "<h1>Training model by fitting the training images</h1>"
   ]
  },
  {
   "cell_type": "code",
   "execution_count": 8,
   "id": "7a09dba1",
   "metadata": {},
   "outputs": [
    {
     "name": "stdout",
     "output_type": "stream",
     "text": [
      "Epoch 1/50\n",
      "1875/1875 [==============================] - 6s 3ms/step - loss: 0.4967 - accuracy: 0.8262\n",
      "Epoch 2/50\n",
      "1875/1875 [==============================] - 6s 3ms/step - loss: 0.3730 - accuracy: 0.8654\n",
      "Epoch 3/50\n",
      "1875/1875 [==============================] - 5s 3ms/step - loss: 0.3336 - accuracy: 0.8778\n",
      "Epoch 4/50\n",
      "1875/1875 [==============================] - 6s 3ms/step - loss: 0.3096 - accuracy: 0.8853\n",
      "Epoch 5/50\n",
      "1875/1875 [==============================] - 6s 3ms/step - loss: 0.2913 - accuracy: 0.8927\n",
      "Epoch 6/50\n",
      "1875/1875 [==============================] - 6s 3ms/step - loss: 0.2775 - accuracy: 0.8966\n",
      "Epoch 7/50\n",
      "1875/1875 [==============================] - 5s 3ms/step - loss: 0.2641 - accuracy: 0.9014\n",
      "Epoch 8/50\n",
      "1875/1875 [==============================] - 5s 3ms/step - loss: 0.2551 - accuracy: 0.9050\n",
      "Epoch 9/50\n",
      "1875/1875 [==============================] - 6s 3ms/step - loss: 0.2457 - accuracy: 0.9082\n",
      "Epoch 10/50\n",
      "1875/1875 [==============================] - 5s 3ms/step - loss: 0.2391 - accuracy: 0.9110\n",
      "Epoch 11/50\n",
      "1875/1875 [==============================] - 6s 3ms/step - loss: 0.2279 - accuracy: 0.9152\n",
      "Epoch 12/50\n",
      "1875/1875 [==============================] - 6s 3ms/step - loss: 0.2210 - accuracy: 0.9180\n",
      "Epoch 13/50\n",
      "1875/1875 [==============================] - 5s 3ms/step - loss: 0.2148 - accuracy: 0.9192\n",
      "Epoch 14/50\n",
      "1875/1875 [==============================] - 5s 3ms/step - loss: 0.2092 - accuracy: 0.9218\n",
      "Epoch 15/50\n",
      "1875/1875 [==============================] - 6s 3ms/step - loss: 0.2020 - accuracy: 0.9243\n",
      "Epoch 16/50\n",
      "1875/1875 [==============================] - 5s 3ms/step - loss: 0.1967 - accuracy: 0.9273\n",
      "Epoch 17/50\n",
      "1875/1875 [==============================] - 6s 3ms/step - loss: 0.1915 - accuracy: 0.9288\n",
      "Epoch 18/50\n",
      "1875/1875 [==============================] - 6s 3ms/step - loss: 0.1865 - accuracy: 0.9309\n",
      "Epoch 19/50\n",
      "1875/1875 [==============================] - 5s 3ms/step - loss: 0.1792 - accuracy: 0.9324\n",
      "Epoch 20/50\n",
      "1875/1875 [==============================] - 5s 3ms/step - loss: 0.1767 - accuracy: 0.9330\n",
      "Epoch 21/50\n",
      "1875/1875 [==============================] - 6s 3ms/step - loss: 0.1718 - accuracy: 0.9352\n",
      "Epoch 22/50\n",
      "1875/1875 [==============================] - 5s 3ms/step - loss: 0.1689 - accuracy: 0.9371\n",
      "Epoch 23/50\n",
      "1875/1875 [==============================] - 6s 3ms/step - loss: 0.1639 - accuracy: 0.9391\n",
      "Epoch 24/50\n",
      "1875/1875 [==============================] - 6s 3ms/step - loss: 0.1617 - accuracy: 0.9399\n",
      "Epoch 25/50\n",
      "1875/1875 [==============================] - 6s 3ms/step - loss: 0.1566 - accuracy: 0.9418\n",
      "Epoch 26/50\n",
      "1875/1875 [==============================] - 7s 4ms/step - loss: 0.1513 - accuracy: 0.9441\n",
      "Epoch 27/50\n",
      "1875/1875 [==============================] - 6s 3ms/step - loss: 0.1523 - accuracy: 0.9428\n",
      "Epoch 28/50\n",
      "1875/1875 [==============================] - 6s 3ms/step - loss: 0.1475 - accuracy: 0.9441\n",
      "Epoch 29/50\n",
      "1875/1875 [==============================] - 6s 3ms/step - loss: 0.1441 - accuracy: 0.9458\n",
      "Epoch 30/50\n",
      "1875/1875 [==============================] - 5s 3ms/step - loss: 0.1402 - accuracy: 0.9475\n",
      "Epoch 31/50\n",
      "1875/1875 [==============================] - 5s 3ms/step - loss: 0.1366 - accuracy: 0.9487\n",
      "Epoch 32/50\n",
      "1875/1875 [==============================] - 6s 3ms/step - loss: 0.1336 - accuracy: 0.9491\n",
      "Epoch 33/50\n",
      "1874/1875 [============================>.] - ETA: 0s - loss: 0.1328 - accuracy: 0.9501\n",
      "Reached 95% accuracy so cancelling training!\n",
      "1875/1875 [==============================] - 6s 3ms/step - loss: 0.1328 - accuracy: 0.9500\n"
     ]
    },
    {
     "data": {
      "text/plain": [
       "<keras.callbacks.History at 0x224334b95e0>"
      ]
     },
     "execution_count": 8,
     "metadata": {},
     "output_type": "execute_result"
    }
   ],
   "source": [
    "model.fit(training_images, training_labels, epochs=50, callbacks=[callbacks])\n"
   ]
  },
  {
   "cell_type": "markdown",
   "id": "9a174ce8",
   "metadata": {},
   "source": [
    "<h1>Evaluting the model</h1>"
   ]
  },
  {
   "cell_type": "code",
   "execution_count": 9,
   "id": "f4c5d74a",
   "metadata": {},
   "outputs": [
    {
     "name": "stdout",
     "output_type": "stream",
     "text": [
      "313/313 [==============================] - 1s 2ms/step - loss: 0.4214 - accuracy: 0.8871\n"
     ]
    },
    {
     "data": {
      "text/plain": [
       "[0.4213629961013794, 0.8870999813079834]"
      ]
     },
     "execution_count": 9,
     "metadata": {},
     "output_type": "execute_result"
    }
   ],
   "source": [
    "model.evaluate(test_images, test_labels)"
   ]
  },
  {
   "cell_type": "markdown",
   "id": "f882d204",
   "metadata": {},
   "source": [
    "<h1>Exploring the Model Output</h1>"
   ]
  },
  {
   "cell_type": "code",
   "execution_count": 10,
   "id": "ebc47e46",
   "metadata": {},
   "outputs": [
    {
     "name": "stdout",
     "output_type": "stream",
     "text": [
      "313/313 [==============================] - 1s 2ms/step\n",
      "[3.0536374e-12 1.0424294e-12 7.8190851e-14 1.2026870e-14 4.1536533e-13\n",
      " 4.2407308e-07 8.8511394e-12 5.4024145e-05 6.3114063e-11 9.9994552e-01]\n",
      "9\n"
     ]
    }
   ],
   "source": [
    "classifications = model.predict(test_images)\n",
    "print(classifications[0])\n",
    "print(test_labels[0])"
   ]
  }
 ],
 "metadata": {
  "kernelspec": {
   "display_name": "Python 3 (ipykernel)",
   "language": "python",
   "name": "python3"
  },
  "language_info": {
   "codemirror_mode": {
    "name": "ipython",
    "version": 3
   },
   "file_extension": ".py",
   "mimetype": "text/x-python",
   "name": "python",
   "nbconvert_exporter": "python",
   "pygments_lexer": "ipython3",
   "version": "3.9.7"
  }
 },
 "nbformat": 4,
 "nbformat_minor": 5
}
