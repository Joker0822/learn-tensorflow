{
  "cells": [
    {
      "cell_type": "markdown",
      "metadata": {
        "id": "5e771866"
      },
      "source": [
        "# Importing Libraries"
      ],
      "id": "5e771866"
    },
    {
      "cell_type": "code",
      "execution_count": 1,
      "metadata": {
        "id": "03baa643"
      },
      "outputs": [],
      "source": [
        "import urllib.request\n",
        "import os\n",
        "import zipfile\n",
        "from tensorflow.keras.preprocessing.image import ImageDataGenerator\n",
        "from tensorflow.keras import layers\n",
        "from tensorflow.keras import Model\n",
        "from tensorflow.keras.applications.inception_v3 import InceptionV3\n",
        "from tensorflow.keras.optimizers import RMSprop"
      ],
      "id": "03baa643"
    },
    {
      "cell_type": "markdown",
      "metadata": {
        "id": "4e1bb37c"
      },
      "source": [
        "# Transfer Learning\n",
        "The idea behind transfer learning is simple: instead of learning a set of filters from\n",
        "scratch for our dataset, why not use a set of filters that were learned on a much larger\n",
        "dataset, with many more features than we can “afford” to build from scratch? We can\n",
        "place these in our network and then train a model with our data using the prelearned\n",
        "filters.# Downloading the weight\n",
        "A saved model is available containing the pretrained weights. To use this, we simply download the weights"
      ],
      "id": "4e1bb37c"
    },
    {
      "cell_type": "markdown",
      "metadata": {
        "id": "019d9594"
      },
      "source": [
        "# Downloading the weight\n",
        "A saved model is available containing the pretrained weights. To use this, we simply download the weights"
      ],
      "id": "019d9594"
    },
    {
      "cell_type": "code",
      "execution_count": 2,
      "metadata": {
        "id": "aa7af612"
      },
      "outputs": [],
      "source": [
        "# from tensorflow.keras.optimizers import RMSprop\n",
        "# from tensorflow.keras import layers\n",
        "# from tensorflow.keras import Model\n",
        "# from tensorflow.keras.applications.inception_v3 import InceptionV3\n",
        "weights_url = \"https://storage.googleapis.com/mledu-datasets/inception_v3_weights_tf_dim_ordering_tf_kernels_notop.h5\"\n",
        "weights_file = \"inception_v3.h5\"\n",
        "urllib.request.urlretrieve(weights_url, weights_file)\n",
        "pre_trained_model = InceptionV3(input_shape=(150, 150, 3), \n",
        "                                include_top=False,\n",
        "                                weights=None\n",
        "                                )\n",
        "pre_trained_model.load_weights(weights_file)\n"
      ],
      "id": "aa7af612"
    },
    {
      "cell_type": "markdown",
      "metadata": {
        "id": "wlV9apZfmdC3"
      },
      "source": [
        "#Inspecting Model"
      ],
      "id": "wlV9apZfmdC3"
    },
    {
      "cell_type": "markdown",
      "metadata": {
        "id": "J85B48KTmqHh"
      },
      "source": [
        "pre_trained_model.summary()"
      ],
      "id": "J85B48KTmqHh"
    },
    {
      "cell_type": "code",
      "execution_count": 3,
      "metadata": {
        "colab": {
          "base_uri": "https://localhost:8080/"
        },
        "id": "fjFDMrUQm6WJ",
        "outputId": "c387077d-5b15-4caa-f60e-508f69c1a7eb"
      },
      "outputs": [
        {
          "output_type": "stream",
          "name": "stdout",
          "text": [
            "last layer output shape:  (None, 7, 7, 768)\n"
          ]
        }
      ],
      "source": [
        "for layer in pre_trained_model.layers:\n",
        "  layer.trainable = False\n",
        "last_layer = pre_trained_model.get_layer('mixed7')\n",
        "print('last layer output shape: ', last_layer.output_shape)\n",
        "last_output = last_layer.output\n"
      ],
      "id": "fjFDMrUQm6WJ"
    },
    {
      "cell_type": "markdown",
      "metadata": {
        "id": "baFYaG-OnJNT"
      },
      "source": [
        "#Adding Dense Layer"
      ],
      "id": "baFYaG-OnJNT"
    },
    {
      "cell_type": "code",
      "execution_count": 4,
      "metadata": {
        "id": "siEeO9qinMpm"
      },
      "outputs": [],
      "source": [
        "# Flatten the output layer to 1 dimension\n",
        "x = layers.Flatten()(last_output)\n",
        "# Add a fully connected layer with 1,024 hidden units and ReLU activation\n",
        "x = layers.Dense(1024, activation='relu')(x)\n",
        "# Add a final sigmoid layer for classification\n",
        "x = layers.Dense(1, activation='sigmoid')(x)"
      ],
      "id": "siEeO9qinMpm"
    },
    {
      "cell_type": "markdown",
      "metadata": {
        "id": "FMjEQdMRnWut"
      },
      "source": [
        "#Defining Model"
      ],
      "id": "FMjEQdMRnWut"
    },
    {
      "cell_type": "code",
      "execution_count": 5,
      "metadata": {
        "colab": {
          "base_uri": "https://localhost:8080/"
        },
        "id": "0yOihi-znafZ",
        "outputId": "0c309966-e59f-4b5e-fd8f-3fe6c198f043"
      },
      "outputs": [
        {
          "output_type": "stream",
          "name": "stderr",
          "text": [
            "/usr/local/lib/python3.7/dist-packages/keras/optimizer_v2/rmsprop.py:130: UserWarning: The `lr` argument is deprecated, use `learning_rate` instead.\n",
            "  super(RMSprop, self).__init__(name, **kwargs)\n"
          ]
        }
      ],
      "source": [
        "model = Model(pre_trained_model.input, x)\n",
        "\n",
        "model.compile(optimizer=RMSprop(lr=0.0001),\n",
        " loss='binary_crossentropy',\n",
        " metrics=['acc'])\n"
      ],
      "id": "0yOihi-znafZ"
    }
  ],
  "metadata": {
    "colab": {
      "collapsed_sections": [],
      "name": "Copy of Chapter 3c - Transfer Learning.ipynb",
      "provenance": []
    },
    "kernelspec": {
      "display_name": "Python 3 (ipykernel)",
      "language": "python",
      "name": "python3"
    },
    "language_info": {
      "codemirror_mode": {
        "name": "ipython",
        "version": 3
      },
      "file_extension": ".py",
      "mimetype": "text/x-python",
      "name": "python",
      "nbconvert_exporter": "python",
      "pygments_lexer": "ipython3",
      "version": "3.9.7"
    }
  },
  "nbformat": 4,
  "nbformat_minor": 5
}