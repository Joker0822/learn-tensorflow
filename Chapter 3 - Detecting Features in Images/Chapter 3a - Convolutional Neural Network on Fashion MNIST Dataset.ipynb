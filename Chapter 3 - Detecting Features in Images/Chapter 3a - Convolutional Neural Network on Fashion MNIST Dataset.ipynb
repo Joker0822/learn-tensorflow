{
 "cells": [
  {
   "cell_type": "markdown",
   "id": "843d6c58",
   "metadata": {},
   "source": [
    "<h1>Importing Tensorflow & Loading MNIST dataset</h1>"
   ]
  },
  {
   "cell_type": "code",
   "execution_count": 1,
   "id": "3fb34b19",
   "metadata": {},
   "outputs": [],
   "source": [
    "import tensorflow as tf\n",
    "data = tf.keras.datasets.fashion_mnist"
   ]
  },
  {
   "cell_type": "markdown",
   "id": "60b16aa0",
   "metadata": {},
   "source": [
    "<h1>Training set & Test set</h1>"
   ]
  },
  {
   "cell_type": "code",
   "execution_count": 2,
   "id": "59a710ca",
   "metadata": {
    "scrolled": true
   },
   "outputs": [],
   "source": [
    "(training_images, training_labels), (test_images, test_labels) = data.load_data()"
   ]
  },
  {
   "cell_type": "markdown",
   "id": "f9ad99d0",
   "metadata": {},
   "source": [
    "<h1>Normalizing the Image </h1>"
   ]
  },
  {
   "cell_type": "code",
   "execution_count": 3,
   "id": "f7110884",
   "metadata": {},
   "outputs": [],
   "source": [
    "training_images = training_images.reshape(60000, 28, 28, 1)\n",
    "training_images = training_images / 255.0\n",
    "test_images = test_images.reshape(10000, 28, 28, 1)\n",
    "test_images = test_images / 255.0"
   ]
  },
  {
   "cell_type": "markdown",
   "id": "0624a5a1",
   "metadata": {},
   "source": [
    "<h1>Defining Neural Network</h1>"
   ]
  },
  {
   "cell_type": "code",
   "execution_count": 4,
   "id": "f47d6e78",
   "metadata": {},
   "outputs": [],
   "source": [
    "model = tf.keras.models.Sequential([\n",
    "     tf.keras.layers.Conv2D(64, (3, 3), activation='relu', input_shape=(28, 28, 1)),\n",
    "     tf.keras.layers.MaxPooling2D(2, 2),\n",
    "     tf.keras.layers.Conv2D(64, (3, 3), activation='relu'),\n",
    "     tf.keras.layers.MaxPooling2D(2,2),\n",
    "     tf.keras.layers.Flatten(),\n",
    "     tf.keras.layers.Dense(128, activation=tf.nn.relu),\n",
    "     tf.keras.layers.Dense(10, activation=tf.nn.softmax)\n",
    "    ])\n"
   ]
  },
  {
   "cell_type": "markdown",
   "id": "e66f4c44",
   "metadata": {},
   "source": [
    "<h1>Compiling Model</h1>"
   ]
  },
  {
   "cell_type": "code",
   "execution_count": 5,
   "id": "eb9e8218",
   "metadata": {},
   "outputs": [],
   "source": [
    "model.compile(optimizer='adam',\n",
    "     loss='sparse_categorical_crossentropy',\n",
    "     metrics=['accuracy'])"
   ]
  },
  {
   "cell_type": "markdown",
   "id": "6382a07a",
   "metadata": {},
   "source": [
    "<h1>Training model by fitting the training images</h1>"
   ]
  },
  {
   "cell_type": "code",
   "execution_count": 6,
   "id": "7a09dba1",
   "metadata": {},
   "outputs": [
    {
     "name": "stdout",
     "output_type": "stream",
     "text": [
      "Epoch 1/50\n",
      "1875/1875 [==============================] - 105s 55ms/step - loss: 0.4468 - accuracy: 0.8368\n",
      "Epoch 2/50\n",
      "1875/1875 [==============================] - 80s 43ms/step - loss: 0.3001 - accuracy: 0.8898\n",
      "Epoch 3/50\n",
      "1875/1875 [==============================] - 87s 47ms/step - loss: 0.2515 - accuracy: 0.9072\n",
      "Epoch 4/50\n",
      "1875/1875 [==============================] - 85s 45ms/step - loss: 0.2204 - accuracy: 0.9175\n",
      "Epoch 5/50\n",
      "1875/1875 [==============================] - 86s 46ms/step - loss: 0.1912 - accuracy: 0.9287\n",
      "Epoch 6/50\n",
      "1875/1875 [==============================] - 76s 40ms/step - loss: 0.1701 - accuracy: 0.9362\n",
      "Epoch 7/50\n",
      "1875/1875 [==============================] - 75s 40ms/step - loss: 0.1485 - accuracy: 0.9433\n",
      "Epoch 8/50\n",
      "1875/1875 [==============================] - 91s 48ms/step - loss: 0.1314 - accuracy: 0.9506\n",
      "Epoch 9/50\n",
      "1875/1875 [==============================] - 81s 43ms/step - loss: 0.1188 - accuracy: 0.9549\n",
      "Epoch 10/50\n",
      "1875/1875 [==============================] - 83s 44ms/step - loss: 0.1036 - accuracy: 0.9598\n",
      "Epoch 11/50\n",
      "1875/1875 [==============================] - 81s 43ms/step - loss: 0.0910 - accuracy: 0.9659\n",
      "Epoch 12/50\n",
      "1875/1875 [==============================] - 82s 44ms/step - loss: 0.0813 - accuracy: 0.9691\n",
      "Epoch 13/50\n",
      "1875/1875 [==============================] - 82s 44ms/step - loss: 0.0732 - accuracy: 0.9724\n",
      "Epoch 14/50\n",
      "1875/1875 [==============================] - 89s 47ms/step - loss: 0.0657 - accuracy: 0.9748\n",
      "Epoch 15/50\n",
      "1875/1875 [==============================] - 81s 43ms/step - loss: 0.0584 - accuracy: 0.9783\n",
      "Epoch 16/50\n",
      "1875/1875 [==============================] - 98s 52ms/step - loss: 0.0540 - accuracy: 0.9795\n",
      "Epoch 17/50\n",
      "1875/1875 [==============================] - 84s 45ms/step - loss: 0.0494 - accuracy: 0.9812\n",
      "Epoch 18/50\n",
      "1875/1875 [==============================] - 84s 45ms/step - loss: 0.0439 - accuracy: 0.9833\n",
      "Epoch 19/50\n",
      "1875/1875 [==============================] - 81s 43ms/step - loss: 0.0421 - accuracy: 0.9840\n",
      "Epoch 20/50\n",
      "1875/1875 [==============================] - 84s 45ms/step - loss: 0.0382 - accuracy: 0.9854\n",
      "Epoch 21/50\n",
      "1875/1875 [==============================] - 92s 49ms/step - loss: 0.0358 - accuracy: 0.9865\n",
      "Epoch 22/50\n",
      "1875/1875 [==============================] - 95s 51ms/step - loss: 0.0366 - accuracy: 0.9866\n",
      "Epoch 23/50\n",
      "1875/1875 [==============================] - 83s 44ms/step - loss: 0.0319 - accuracy: 0.9885\n",
      "Epoch 24/50\n",
      "1875/1875 [==============================] - 90s 48ms/step - loss: 0.0311 - accuracy: 0.9887\n",
      "Epoch 25/50\n",
      "1875/1875 [==============================] - 88s 47ms/step - loss: 0.0332 - accuracy: 0.9880\n",
      "Epoch 26/50\n",
      "1875/1875 [==============================] - 87s 47ms/step - loss: 0.0272 - accuracy: 0.9902\n",
      "Epoch 27/50\n",
      "1875/1875 [==============================] - 87s 46ms/step - loss: 0.0275 - accuracy: 0.9903\n",
      "Epoch 28/50\n",
      "1875/1875 [==============================] - 83s 44ms/step - loss: 0.0246 - accuracy: 0.9914\n",
      "Epoch 29/50\n",
      "1875/1875 [==============================] - 84s 45ms/step - loss: 0.0226 - accuracy: 0.9920\n",
      "Epoch 30/50\n",
      "1875/1875 [==============================] - 82s 44ms/step - loss: 0.0229 - accuracy: 0.9918\n",
      "Epoch 31/50\n",
      "1875/1875 [==============================] - 85s 45ms/step - loss: 0.0263 - accuracy: 0.9906\n",
      "Epoch 32/50\n",
      "1875/1875 [==============================] - 82s 44ms/step - loss: 0.0241 - accuracy: 0.9916\n",
      "Epoch 33/50\n",
      "1875/1875 [==============================] - 75s 40ms/step - loss: 0.0239 - accuracy: 0.9916\n",
      "Epoch 34/50\n",
      "1875/1875 [==============================] - 77s 41ms/step - loss: 0.0234 - accuracy: 0.9919\n",
      "Epoch 35/50\n",
      "1875/1875 [==============================] - 76s 41ms/step - loss: 0.0212 - accuracy: 0.9927\n",
      "Epoch 36/50\n",
      "1875/1875 [==============================] - 88s 47ms/step - loss: 0.0249 - accuracy: 0.9918\n",
      "Epoch 37/50\n",
      "1875/1875 [==============================] - 86s 46ms/step - loss: 0.0189 - accuracy: 0.9933\n",
      "Epoch 38/50\n",
      "1875/1875 [==============================] - 91s 48ms/step - loss: 0.0222 - accuracy: 0.9927\n",
      "Epoch 39/50\n",
      "1875/1875 [==============================] - 86s 46ms/step - loss: 0.0222 - accuracy: 0.9922\n",
      "Epoch 40/50\n",
      "1875/1875 [==============================] - 85s 45ms/step - loss: 0.0214 - accuracy: 0.9934\n",
      "Epoch 41/50\n",
      "1875/1875 [==============================] - 88s 47ms/step - loss: 0.0214 - accuracy: 0.9931\n",
      "Epoch 42/50\n",
      "1875/1875 [==============================] - 86s 46ms/step - loss: 0.0197 - accuracy: 0.9938\n",
      "Epoch 43/50\n",
      "1875/1875 [==============================] - 85s 45ms/step - loss: 0.0150 - accuracy: 0.9949\n",
      "Epoch 44/50\n",
      "1875/1875 [==============================] - 86s 46ms/step - loss: 0.0227 - accuracy: 0.9927\n",
      "Epoch 45/50\n",
      "1875/1875 [==============================] - 76s 40ms/step - loss: 0.0199 - accuracy: 0.9939\n",
      "Epoch 46/50\n",
      "1875/1875 [==============================] - 89s 47ms/step - loss: 0.0170 - accuracy: 0.9947\n",
      "Epoch 47/50\n",
      "1875/1875 [==============================] - 85s 45ms/step - loss: 0.0177 - accuracy: 0.9940\n",
      "Epoch 48/50\n",
      "1875/1875 [==============================] - 84s 45ms/step - loss: 0.0171 - accuracy: 0.9944\n",
      "Epoch 49/50\n",
      "1875/1875 [==============================] - 84s 45ms/step - loss: 0.0199 - accuracy: 0.9934\n",
      "Epoch 50/50\n",
      "1875/1875 [==============================] - 81s 43ms/step - loss: 0.0198 - accuracy: 0.9938\n"
     ]
    },
    {
     "data": {
      "text/plain": [
       "<keras.callbacks.History at 0x19e1a79b160>"
      ]
     },
     "execution_count": 6,
     "metadata": {},
     "output_type": "execute_result"
    }
   ],
   "source": [
    "model.fit(training_images, training_labels, epochs=50)\n"
   ]
  },
  {
   "cell_type": "markdown",
   "id": "9a174ce8",
   "metadata": {},
   "source": [
    "<h1>Evaluting the model</h1>"
   ]
  },
  {
   "cell_type": "code",
   "execution_count": 7,
   "id": "f4c5d74a",
   "metadata": {},
   "outputs": [
    {
     "name": "stdout",
     "output_type": "stream",
     "text": [
      "313/313 [==============================] - 5s 13ms/step - loss: 0.9057 - accuracy: 0.9108\n"
     ]
    },
    {
     "data": {
      "text/plain": [
       "[0.9056633710861206, 0.9107999801635742]"
      ]
     },
     "execution_count": 7,
     "metadata": {},
     "output_type": "execute_result"
    }
   ],
   "source": [
    "model.evaluate(test_images, test_labels)"
   ]
  },
  {
   "cell_type": "markdown",
   "id": "f882d204",
   "metadata": {},
   "source": [
    "<h1>Exploring the Model Output</h1>"
   ]
  },
  {
   "cell_type": "code",
   "execution_count": 8,
   "id": "ebc47e46",
   "metadata": {
    "scrolled": true
   },
   "outputs": [
    {
     "name": "stdout",
     "output_type": "stream",
     "text": [
      "313/313 [==============================] - 4s 11ms/step\n",
      "[3.6511414e-38 9.1049670e-38 2.3859245e-38 1.1402329e-24 1.4500031e-32\n",
      " 6.0492304e-29 0.0000000e+00 2.7936985e-23 9.1059273e-33 1.0000000e+00]\n",
      "9\n"
     ]
    }
   ],
   "source": [
    "classifications = model.predict(test_images)\n",
    "print(classifications[0])\n",
    "print(test_labels[0])"
   ]
  },
  {
   "cell_type": "markdown",
   "id": "68a3076a",
   "metadata": {},
   "source": [
    "<h1>Inspecting the model</h1>"
   ]
  },
  {
   "cell_type": "code",
   "execution_count": 9,
   "id": "35aaf44b",
   "metadata": {},
   "outputs": [
    {
     "name": "stdout",
     "output_type": "stream",
     "text": [
      "Model: \"sequential\"\n",
      "_________________________________________________________________\n",
      " Layer (type)                Output Shape              Param #   \n",
      "=================================================================\n",
      " conv2d (Conv2D)             (None, 26, 26, 64)        640       \n",
      "                                                                 \n",
      " max_pooling2d (MaxPooling2D  (None, 13, 13, 64)       0         \n",
      " )                                                               \n",
      "                                                                 \n",
      " conv2d_1 (Conv2D)           (None, 11, 11, 64)        36928     \n",
      "                                                                 \n",
      " max_pooling2d_1 (MaxPooling  (None, 5, 5, 64)         0         \n",
      " 2D)                                                             \n",
      "                                                                 \n",
      " flatten (Flatten)           (None, 1600)              0         \n",
      "                                                                 \n",
      " dense (Dense)               (None, 128)               204928    \n",
      "                                                                 \n",
      " dense_1 (Dense)             (None, 10)                1290      \n",
      "                                                                 \n",
      "=================================================================\n",
      "Total params: 243,786\n",
      "Trainable params: 243,786\n",
      "Non-trainable params: 0\n",
      "_________________________________________________________________\n"
     ]
    }
   ],
   "source": [
    "model.summary()"
   ]
  }
 ],
 "metadata": {
  "kernelspec": {
   "display_name": "Python 3 (ipykernel)",
   "language": "python",
   "name": "python3"
  },
  "language_info": {
   "codemirror_mode": {
    "name": "ipython",
    "version": 3
   },
   "file_extension": ".py",
   "mimetype": "text/x-python",
   "name": "python",
   "nbconvert_exporter": "python",
   "pygments_lexer": "ipython3",
   "version": "3.9.7"
  }
 },
 "nbformat": 4,
 "nbformat_minor": 5
}
