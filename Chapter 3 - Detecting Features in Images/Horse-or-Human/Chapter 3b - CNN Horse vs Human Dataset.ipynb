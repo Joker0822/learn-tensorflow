{
 "cells": [
  {
   "cell_type": "markdown",
   "id": "5e771866",
   "metadata": {},
   "source": [
    "<h1>Retrieving and Extracting Training Dataset</h1>"
   ]
  },
  {
   "cell_type": "code",
   "execution_count": 4,
   "id": "03baa643",
   "metadata": {},
   "outputs": [],
   "source": [
    "#Importing libraries\n",
    "import urllib.request\n",
    "import zipfile\n",
    "url = \"https://storage.googleapis.com/laurencemoroney-blog.appspot.com/horse-or-human.zip\"\n",
    "\n",
    "#Retrieving Training Dataset from the URL\n",
    "file_name = \"horse-or-human.zip\"\n",
    "training_dir = \"horse-or-human/training/\"\n",
    "urllib.request.urlretrieve(url, file_name)\n",
    "\n",
    "#Extracting Dataset into appropriately named subdirectories\n",
    "zip_ref = zipfile.ZipFile(file_name, 'r')\n",
    "zip_ref.extractall(training_dir)\n",
    "zip_ref.close()"
   ]
  },
  {
   "cell_type": "markdown",
   "id": "6402dacb",
   "metadata": {},
   "source": [
    "<h1>Scaling Using ImageDataGenerator</h1>"
   ]
  },
  {
   "cell_type": "code",
   "execution_count": 10,
   "id": "aa299bc1",
   "metadata": {},
   "outputs": [
    {
     "name": "stdout",
     "output_type": "stream",
     "text": [
      "Found 1027 images belonging to 2 classes.\n"
     ]
    }
   ],
   "source": [
    "import tensorflow as tf\n",
    "from tensorflow.keras.preprocessing.image import ImageDataGenerator\n",
    "\n",
    "#All images will be rescaled by 1./255\n",
    "train_datagen = ImageDataGenerator(rescale = 1/255)\n",
    "train_generator = train_datagen.flow_from_directory(\n",
    "    training_dir,\n",
    "    target_size = (300, 300),\n",
    "    class_mode = 'binary'\n",
    ")"
   ]
  },
  {
   "cell_type": "markdown",
   "id": "119f9882",
   "metadata": {},
   "source": [
    "<h1>CNN Architecture for Horses or Humans</h1>"
   ]
  },
  {
   "cell_type": "code",
   "execution_count": 14,
   "id": "cc838584",
   "metadata": {},
   "outputs": [],
   "source": [
    "model = tf.keras.models.Sequential([\n",
    "    tf.keras.layers.Conv2D(16, (3,3), activation='relu', input_shape=(300, 300, 3)),\n",
    "    tf.keras.layers.MaxPooling2D(2,2),\n",
    "    tf.keras.layers.Conv2D(32, (3,3), activation='relu'),\n",
    "    tf.keras.layers.MaxPooling2D(2,2),\n",
    "    tf.keras.layers.Conv2D(32, (3,3), activation='relu'),\n",
    "    tf.keras.layers.MaxPooling2D(2,2),\n",
    "    tf.keras.layers.Conv2D(32, (3,3), activation='relu'),\n",
    "    tf.keras.layers.MaxPooling2D(2,2),\n",
    "    tf.keras.layers.Conv2D(32, (3,3), activation='relu'),\n",
    "    tf.keras.layers.MaxPooling2D(2,2),\n",
    "    tf.keras.layers.Flatten(),\n",
    "    tf.keras.layers.Dense(512, activation='relu'),\n",
    "    tf.keras.layers.Dense(1, activation='sigmoid'),\n",
    "\n",
    "])"
   ]
  },
  {
   "cell_type": "markdown",
   "id": "5a6718dc",
   "metadata": {},
   "source": [
    "<h1>Inspecting the model</h1>"
   ]
  },
  {
   "cell_type": "code",
   "execution_count": 16,
   "id": "8e01fb08",
   "metadata": {},
   "outputs": [
    {
     "name": "stdout",
     "output_type": "stream",
     "text": [
      "Model: \"sequential_1\"\n",
      "_________________________________________________________________\n",
      " Layer (type)                Output Shape              Param #   \n",
      "=================================================================\n",
      " conv2d_6 (Conv2D)           (None, 298, 298, 16)      448       \n",
      "                                                                 \n",
      " max_pooling2d_6 (MaxPooling  (None, 149, 149, 16)     0         \n",
      " 2D)                                                             \n",
      "                                                                 \n",
      " conv2d_7 (Conv2D)           (None, 147, 147, 32)      4640      \n",
      "                                                                 \n",
      " max_pooling2d_7 (MaxPooling  (None, 73, 73, 32)       0         \n",
      " 2D)                                                             \n",
      "                                                                 \n",
      " conv2d_8 (Conv2D)           (None, 71, 71, 32)        9248      \n",
      "                                                                 \n",
      " max_pooling2d_8 (MaxPooling  (None, 35, 35, 32)       0         \n",
      " 2D)                                                             \n",
      "                                                                 \n",
      " conv2d_9 (Conv2D)           (None, 33, 33, 32)        9248      \n",
      "                                                                 \n",
      " max_pooling2d_9 (MaxPooling  (None, 16, 16, 32)       0         \n",
      " 2D)                                                             \n",
      "                                                                 \n",
      " conv2d_10 (Conv2D)          (None, 14, 14, 32)        9248      \n",
      "                                                                 \n",
      " max_pooling2d_10 (MaxPoolin  (None, 7, 7, 32)         0         \n",
      " g2D)                                                            \n",
      "                                                                 \n",
      " flatten_1 (Flatten)         (None, 1568)              0         \n",
      "                                                                 \n",
      " dense_2 (Dense)             (None, 512)               803328    \n",
      "                                                                 \n",
      " dense_3 (Dense)             (None, 1)                 513       \n",
      "                                                                 \n",
      "=================================================================\n",
      "Total params: 836,673\n",
      "Trainable params: 836,673\n",
      "Non-trainable params: 0\n",
      "_________________________________________________________________\n"
     ]
    }
   ],
   "source": [
    "model.summary()"
   ]
  },
  {
   "cell_type": "markdown",
   "id": "d1f45077",
   "metadata": {},
   "source": [
    "<h1>Compiling to Train Network</h1>"
   ]
  },
  {
   "cell_type": "code",
   "execution_count": 22,
   "id": "11231d1a",
   "metadata": {},
   "outputs": [],
   "source": [
    "model.compile(loss = 'binary_crossentropy',\n",
    "             optimizer = tf.keras.optimizers.RMSprop(learning_rate=0.001),\n",
    "             metrics = ['accuracy'])"
   ]
  },
  {
   "cell_type": "markdown",
   "id": "75c89059",
   "metadata": {},
   "source": [
    "<h1>Training Network</h1>"
   ]
  },
  {
   "cell_type": "code",
   "execution_count": 26,
   "id": "e3570492",
   "metadata": {},
   "outputs": [
    {
     "name": "stdout",
     "output_type": "stream",
     "text": [
      "Epoch 1/15\n",
      "33/33 [==============================] - 78s 2s/step - loss: 0.3432 - accuracy: 0.8705\n",
      "Epoch 2/15\n",
      "33/33 [==============================] - 69s 2s/step - loss: 0.2389 - accuracy: 0.9309\n",
      "Epoch 3/15\n",
      "33/33 [==============================] - 72s 2s/step - loss: 0.0760 - accuracy: 0.9718\n",
      "Epoch 4/15\n",
      "33/33 [==============================] - 72s 2s/step - loss: 0.2399 - accuracy: 0.9338\n",
      "Epoch 5/15\n",
      "33/33 [==============================] - 78s 2s/step - loss: 0.0814 - accuracy: 0.9737\n",
      "Epoch 6/15\n",
      "33/33 [==============================] - 76s 2s/step - loss: 0.2909 - accuracy: 0.9708\n",
      "Epoch 7/15\n",
      "33/33 [==============================] - 69s 2s/step - loss: 0.0278 - accuracy: 0.9932\n",
      "Epoch 8/15\n",
      "33/33 [==============================] - 75s 2s/step - loss: 0.2361 - accuracy: 0.9766\n",
      "Epoch 9/15\n",
      "33/33 [==============================] - 71s 2s/step - loss: 0.0049 - accuracy: 1.0000\n",
      "Epoch 10/15\n",
      "33/33 [==============================] - 87s 3s/step - loss: 0.0829 - accuracy: 0.9834\n",
      "Epoch 11/15\n",
      "33/33 [==============================] - 70s 2s/step - loss: 0.0992 - accuracy: 0.9864\n",
      "Epoch 12/15\n",
      "33/33 [==============================] - 64s 2s/step - loss: 0.0649 - accuracy: 0.9815\n",
      "Epoch 13/15\n",
      "33/33 [==============================] - 64s 2s/step - loss: 0.0175 - accuracy: 0.9971\n",
      "Epoch 14/15\n",
      "33/33 [==============================] - 64s 2s/step - loss: 0.0544 - accuracy: 0.9854\n",
      "Epoch 15/15\n",
      "33/33 [==============================] - 72s 2s/step - loss: 5.8568e-04 - accuracy: 1.0000\n"
     ]
    }
   ],
   "source": [
    "history = model.fit(\n",
    "    train_generator,\n",
    "    epochs = 15 \n",
    ")"
   ]
  },
  {
   "cell_type": "markdown",
   "id": "959cbbe2",
   "metadata": {},
   "source": [
    "### Note: This sample will work in Colab, but if you want to run it on your own machine,\n",
    "please ensure that the Pillow libraries are installed using pip install pillow."
   ]
  },
  {
   "cell_type": "code",
   "execution_count": 25,
   "id": "66ed89ac",
   "metadata": {
    "scrolled": true
   },
   "outputs": [
    {
     "name": "stdout",
     "output_type": "stream",
     "text": [
      "Requirement already satisfied: pillow in c:\\users\\sk721\\anaconda3\\lib\\site-packages (8.4.0)\n"
     ]
    }
   ],
   "source": [
    "!pip install pillow"
   ]
  },
  {
   "cell_type": "markdown",
   "id": "acc7fe5b",
   "metadata": {},
   "source": [
    "<h1>Adding Validation to the Horses or Humans Dataset</h1>"
   ]
  },
  {
   "cell_type": "code",
   "execution_count": 28,
   "id": "b1a9761d",
   "metadata": {},
   "outputs": [],
   "source": [
    "#Retrieving Validation Dataset from the URL\n",
    "validation_url =  \"https://storage.googleapis.com/laurencemoroney-blog.appspot.com/validation-horse-or-human.zip\"\n",
    "validation_file_name = \"validation-horse-or-human.zip\"\n",
    "validation_dir = 'horce-or-human/validation/'\n",
    "urllib.request.urlretrieve(validation_url, validation_file_name)\n",
    "\n",
    "\n",
    "#Extracting Validation Dataset into appropriately named subdirectories\n",
    "zip_ref = zipfile.ZipFile(validation_file_name, 'r')\n",
    "zip_ref.extractall(validation_dir)\n",
    "zip_ref.close()\n"
   ]
  },
  {
   "cell_type": "markdown",
   "id": "ebff47e6",
   "metadata": {},
   "source": [
    "<h1>Scaling Using ImageDataGenerator</h1>"
   ]
  },
  {
   "cell_type": "code",
   "execution_count": 29,
   "id": "8823e545",
   "metadata": {},
   "outputs": [
    {
     "name": "stdout",
     "output_type": "stream",
     "text": [
      "Found 256 images belonging to 2 classes.\n"
     ]
    }
   ],
   "source": [
    "validation_datagen = ImageDataGenerator(rescale=1/255)\n",
    "validation_generator = train_datagen.flow_from_directory(\n",
    "    validation_dir,\n",
    "    target_size=(300, 300),\n",
    "    class_mode='binary'\n",
    ")\n"
   ]
  },
  {
   "cell_type": "markdown",
   "id": "33bd6de3",
   "metadata": {},
   "source": [
    "<h1>Perform the Validation to Test the Model</h1>"
   ]
  },
  {
   "cell_type": "code",
   "execution_count": 30,
   "id": "6f695c2d",
   "metadata": {
    "scrolled": true
   },
   "outputs": [
    {
     "name": "stdout",
     "output_type": "stream",
     "text": [
      "Epoch 1/15\n",
      "33/33 [==============================] - 72s 2s/step - loss: 8.5036e-05 - accuracy: 1.0000 - val_loss: 2.5356 - val_accuracy: 0.8672\n",
      "Epoch 2/15\n",
      "33/33 [==============================] - 70s 2s/step - loss: 0.0842 - accuracy: 0.9873 - val_loss: 2.9569 - val_accuracy: 0.8477\n",
      "Epoch 3/15\n",
      "33/33 [==============================] - 72s 2s/step - loss: 2.1524e-04 - accuracy: 1.0000 - val_loss: 2.8587 - val_accuracy: 0.8477\n",
      "Epoch 4/15\n",
      "33/33 [==============================] - 84s 3s/step - loss: 4.3528e-05 - accuracy: 1.0000 - val_loss: 3.4345 - val_accuracy: 0.8477\n",
      "Epoch 5/15\n",
      "33/33 [==============================] - 81s 2s/step - loss: 3.8043e-06 - accuracy: 1.0000 - val_loss: 4.3530 - val_accuracy: 0.8516\n",
      "Epoch 6/15\n",
      "33/33 [==============================] - 70s 2s/step - loss: 0.2168 - accuracy: 0.9815 - val_loss: 7.3969 - val_accuracy: 0.5938\n",
      "Epoch 7/15\n",
      "33/33 [==============================] - 71s 2s/step - loss: 0.0084 - accuracy: 0.9971 - val_loss: 4.2796 - val_accuracy: 0.8008\n",
      "Epoch 8/15\n",
      "33/33 [==============================] - 71s 2s/step - loss: 7.1184e-04 - accuracy: 1.0000 - val_loss: 4.1041 - val_accuracy: 0.8281\n",
      "Epoch 9/15\n",
      "33/33 [==============================] - 70s 2s/step - loss: 1.2159e-05 - accuracy: 1.0000 - val_loss: 4.4231 - val_accuracy: 0.8164\n",
      "Epoch 10/15\n",
      "33/33 [==============================] - 72s 2s/step - loss: 2.5576e-06 - accuracy: 1.0000 - val_loss: 4.8499 - val_accuracy: 0.8125\n",
      "Epoch 11/15\n",
      "33/33 [==============================] - 82s 2s/step - loss: 6.3345e-07 - accuracy: 1.0000 - val_loss: 5.4134 - val_accuracy: 0.8164\n",
      "Epoch 12/15\n",
      "33/33 [==============================] - 72s 2s/step - loss: 0.3789 - accuracy: 0.9766 - val_loss: 1.3028 - val_accuracy: 0.8555\n",
      "Epoch 13/15\n",
      "33/33 [==============================] - 77s 2s/step - loss: 0.0034 - accuracy: 0.9990 - val_loss: 2.1090 - val_accuracy: 0.8555\n",
      "Epoch 14/15\n",
      "33/33 [==============================] - 91s 3s/step - loss: 1.7294e-04 - accuracy: 1.0000 - val_loss: 2.8517 - val_accuracy: 0.8516\n",
      "Epoch 15/15\n",
      "33/33 [==============================] - 90s 3s/step - loss: 2.2469e-05 - accuracy: 1.0000 - val_loss: 3.8078 - val_accuracy: 0.8398\n"
     ]
    }
   ],
   "source": [
    "history = model.fit(\n",
    "    train_generator,\n",
    "    epochs = 15,\n",
    "    validation_data = validation_generator\n",
    ")"
   ]
  },
  {
   "cell_type": "markdown",
   "id": "385706c1",
   "metadata": {},
   "source": [
    "### Testing the model is perhaps easiest using Colab. I’ve provided a Horses or Humans notebook on GitHub that you can open directly in <a href ='https://colab.research.google.com/github/lmoroney/dlaicourse/blob/master/Horse_or_Human_NoValidation.ipynb#scrollTo=DoWp43WxJDNT'>Colab</a>."
   ]
  }
 ],
 "metadata": {
  "kernelspec": {
   "display_name": "Python 3 (ipykernel)",
   "language": "python",
   "name": "python3"
  },
  "language_info": {
   "codemirror_mode": {
    "name": "ipython",
    "version": 3
   },
   "file_extension": ".py",
   "mimetype": "text/x-python",
   "name": "python",
   "nbconvert_exporter": "python",
   "pygments_lexer": "ipython3",
   "version": "3.9.7"
  }
 },
 "nbformat": 4,
 "nbformat_minor": 5
}
